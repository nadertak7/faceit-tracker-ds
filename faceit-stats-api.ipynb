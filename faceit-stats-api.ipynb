{
 "cells": [
  {
   "cell_type": "markdown",
   "metadata": {},
   "source": [
    "## Retrieve faceit stats"
   ]
  },
  {
   "cell_type": "code",
   "execution_count": 97,
   "metadata": {},
   "outputs": [
    {
     "name": "stdout",
     "output_type": "stream",
     "text": [
      "An error occurred: Player was not found. Please ensure the nickname entered is correct.\n"
     ]
    },
    {
     "data": {
      "text/plain": [
       "{'errors': [{'message': 'The resource was not found.',\n",
       "   'code': 'err_nf0',\n",
       "   'http_status': 404,\n",
       "   'parameters': []}]}"
      ]
     },
     "execution_count": 97,
     "metadata": {},
     "output_type": "execute_result"
    }
   ],
   "source": [
    "# Import modules\n",
    "from dotenv import load_dotenv\n",
    "import os\n",
    "import requests\n",
    "\n",
    "load_dotenv()\n",
    "\n",
    "faceit_nickname = input(\"Faceit Nickname: \")\n",
    "\n",
    "headers = {\n",
    "    # The SERVER_KEY environment variable can be generated at:\n",
    "    # \n",
    "    \"Authorization\": f\"Bearer {os.getenv(\"SERVER_KEY\")}\",\n",
    "    \"accept\": \"application/json\"\n",
    "}\n",
    "\n",
    "endpoint = f\"https://open.faceit.com/data/v4/players?nickname={faceit_nickname}\"\n",
    "\n",
    "try: \n",
    "    response_api = requests.get(endpoint, headers=headers)\n",
    "\n",
    "    if response_api.status_code == 200:\n",
    "        print(\"success\")\n",
    "    elif response_api.status_code == 404:\n",
    "        raise Exception(\"Player was not found. Please ensure the nickname entered is correct.\")\n",
    "    else:\n",
    "        raise Exception(\"Unknown Error\")\n",
    "    \n",
    "except Exception as exception:\n",
    "    print(f\"An error occurred: {exception}\")\n",
    "\n",
    "player_summary = response_api.json()\n",
    "\n",
    "player_summary"
   ]
  },
  {
   "cell_type": "code",
   "execution_count": 98,
   "metadata": {},
   "outputs": [
    {
     "data": {
      "text/plain": [
       "{}"
      ]
     },
     "execution_count": 98,
     "metadata": {},
     "output_type": "execute_result"
    }
   ],
   "source": [
    "cs2_player_data = (player_summary\n",
    "                   .get('games', {})\n",
    "                   .get('cs2', {})\n",
    ")\n",
    "\n",
    "cs2_player_data\n"
   ]
  },
  {
   "cell_type": "code",
   "execution_count": null,
   "metadata": {},
   "outputs": [],
   "source": []
  }
 ],
 "metadata": {
  "kernelspec": {
   "display_name": "venv",
   "language": "python",
   "name": "python3"
  },
  "language_info": {
   "codemirror_mode": {
    "name": "ipython",
    "version": 3
   },
   "file_extension": ".py",
   "mimetype": "text/x-python",
   "name": "python",
   "nbconvert_exporter": "python",
   "pygments_lexer": "ipython3",
   "version": "3.12.0"
  }
 },
 "nbformat": 4,
 "nbformat_minor": 2
}
