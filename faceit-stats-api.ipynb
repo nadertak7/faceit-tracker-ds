{
 "cells": [
  {
   "cell_type": "markdown",
   "metadata": {},
   "source": [
    "## Retrieve faceit stats"
   ]
  },
  {
   "cell_type": "markdown",
   "metadata": {},
   "source": [
    "#### Retrieving data from faceit API"
   ]
  },
  {
   "cell_type": "code",
   "execution_count": 15,
   "metadata": {},
   "outputs": [
    {
     "name": "stdout",
     "output_type": "stream",
     "text": [
      "success\n"
     ]
    },
    {
     "data": {
      "text/plain": [
       "int"
      ]
     },
     "execution_count": 15,
     "metadata": {},
     "output_type": "execute_result"
    }
   ],
   "source": [
    "# Import modules\n",
    "from dotenv import load_dotenv\n",
    "import os\n",
    "import requests\n",
    "\n",
    "# Load secrets\n",
    "load_dotenv()\n",
    "\n",
    "faceit_nickname = input(\"Faceit Nickname: \")\n",
    "\n",
    "# Set GET request args\n",
    "headers = {\n",
    "    # The SERVER_KEY environment variable was generated at:\n",
    "    # https://developers.faceit.com/apps > select app > api keys > create server side api key\n",
    "    \"Authorization\": f\"Bearer {os.getenv(\"SERVER_KEY\")}\",\n",
    "    \"accept\": \"application/json\"\n",
    "}\n",
    "\n",
    "endpoint = f\"https://open.faceit.com/data/v4/players?nickname={faceit_nickname}\"\n",
    "\n",
    "# GET request \n",
    "try: \n",
    "    response_api = requests.get(endpoint, headers=headers)\n",
    "\n",
    "    if response_api.status_code == 200:\n",
    "        print(\"success\")\n",
    "    elif response_api.status_code == 404:\n",
    "        raise Exception(\"Player was not found. Please ensure the nickname entered is correct.\")\n",
    "    else:\n",
    "        raise Exception(\"Unknown Error\")\n",
    "    \n",
    "except Exception as exception:\n",
    "    print(f\"An error occurred: {exception}\")"
   ]
  },
  {
   "cell_type": "markdown",
   "metadata": {},
   "source": [
    "#### Unpacking the data retrieved"
   ]
  },
  {
   "cell_type": "code",
   "execution_count": 13,
   "metadata": {},
   "outputs": [
    {
     "data": {
      "text/plain": [
       "{'player_id': '18037114-0261-47a8-9428-5dca421631a8',\n",
       " 'nickname': 'nadsennn',\n",
       " 'avatar': 'https://distribution.faceit-cdn.net/images/541b6797-3fba-4d51-b77d-d80555f4e5f3.jpeg',\n",
       " 'country': 'gb',\n",
       " 'cover_image': '',\n",
       " 'platforms': {'steam': 'STEAM_0:0:716917392'},\n",
       " 'games': {'cs2': {'region': 'EU',\n",
       "   'game_player_id': '76561199394100512',\n",
       "   'skill_level': 5,\n",
       "   'faceit_elo': 1153,\n",
       "   'game_player_name': 'Nishi Shabi',\n",
       "   'skill_level_label': '',\n",
       "   'regions': {},\n",
       "   'game_profile_id': ''},\n",
       "  'csgo': {'region': 'EU',\n",
       "   'game_player_id': '76561199394100512',\n",
       "   'skill_level': 3,\n",
       "   'faceit_elo': 1038,\n",
       "   'game_player_name': 'Nishi Shabi',\n",
       "   'skill_level_label': '',\n",
       "   'regions': {},\n",
       "   'game_profile_id': ''}},\n",
       " 'settings': {'language': 'en'},\n",
       " 'friends_ids': ['eb10fd70-8755-4524-9328-e4ab87379df4',\n",
       "  '7d4e8c43-6a1e-4448-9387-3da41d1ad558',\n",
       "  '6e9144ea-4adc-4cbd-8ef7-24be2b251c50',\n",
       "  '081468b8-7a71-44b0-a671-b38ed9041b22',\n",
       "  'cb0712df-9b0b-4c99-ac80-241c792caf2b',\n",
       "  'bb84b9e9-f741-480f-a157-c6901658b3bb',\n",
       "  '79016553-bcee-45d6-99bf-b06937cd679d'],\n",
       " 'new_steam_id': '[U:1:1433834784]',\n",
       " 'steam_id_64': '76561199394100512',\n",
       " 'steam_nickname': 'richardvinson89423',\n",
       " 'memberships': ['free'],\n",
       " 'faceit_url': 'https://www.faceit.com/{lang}/players/nadsennn',\n",
       " 'membership_type': '',\n",
       " 'cover_featured_image': '',\n",
       " 'infractions': {},\n",
       " 'verified': False,\n",
       " 'activated_at': '2023-07-20T14:56:23.724Z'}"
      ]
     },
     "execution_count": 13,
     "metadata": {},
     "output_type": "execute_result"
    }
   ],
   "source": [
    "player_summary = response_api.json()\n",
    "\n",
    "player_summary"
   ]
  },
  {
   "cell_type": "markdown",
   "metadata": {},
   "source": [
    "#### Dictionary extraction to get cs2 data only"
   ]
  },
  {
   "cell_type": "code",
   "execution_count": 14,
   "metadata": {},
   "outputs": [
    {
     "name": "stdout",
     "output_type": "stream",
     "text": [
      "\n",
      "Skill Level: 5\n",
      "Elo: 1153\n",
      "      \n"
     ]
    }
   ],
   "source": [
    "cs2_player_data = (player_summary\n",
    "                   .get('games', {})\n",
    "                   .get('cs2', {})\n",
    ")\n",
    "\n",
    "faceit_skill_level = cs2_player_data.get('skill_level', {})\n",
    "\n",
    "faceit_elo = cs2_player_data.get('faceit_elo', {})\n",
    "\n",
    "print(f\"\"\"\n",
    "Skill Level: {faceit_skill_level}\n",
    "Elo: {faceit_elo}\n",
    "      \"\"\")"
   ]
  }
 ],
 "metadata": {
  "kernelspec": {
   "display_name": "venv",
   "language": "python",
   "name": "python3"
  },
  "language_info": {
   "codemirror_mode": {
    "name": "ipython",
    "version": 3
   },
   "file_extension": ".py",
   "mimetype": "text/x-python",
   "name": "python",
   "nbconvert_exporter": "python",
   "pygments_lexer": "ipython3",
   "version": "3.12.1"
  }
 },
 "nbformat": 4,
 "nbformat_minor": 2
}
