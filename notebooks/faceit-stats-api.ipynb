{
 "cells": [
  {
   "cell_type": "markdown",
   "metadata": {},
   "source": [
    "## Retrieve faceit stats"
   ]
  },
  {
   "cell_type": "markdown",
   "metadata": {},
   "source": [
    "#### Retrieving data from faceit API"
   ]
  },
  {
   "cell_type": "code",
   "execution_count": 10,
   "metadata": {},
   "outputs": [
    {
     "name": "stdout",
     "output_type": "stream",
     "text": [
      "success\n"
     ]
    }
   ],
   "source": [
    "# Import modules\n",
    "from dotenv import load_dotenv\n",
    "import os\n",
    "import requests\n",
    "\n",
    "# Load secrets\n",
    "load_dotenv()\n",
    "\n",
    "faceit_nickname = input(\"Faceit Nickname: \")\n",
    "\n",
    "# Set GET request args\n",
    "headers = {\n",
    "    # The SERVER_KEY environment variable was generated at:\n",
    "    # https://developers.faceit.com/apps > select app > api keys > create server side api key\n",
    "    \"Authorization\": f\"Bearer {os.getenv(\"SERVER_KEY\")}\",\n",
    "    \"accept\": \"application/json\"\n",
    "}\n",
    "\n",
    "endpoint = f\"https://open.faceit.com/data/v4/players?nickname={faceit_nickname}\"\n",
    "\n",
    "# GET request \n",
    "try: \n",
    "    response_api = requests.get(endpoint, headers=headers)\n",
    "\n",
    "    if response_api.status_code == 200:\n",
    "        print(\"success\")\n",
    "    elif response_api.status_code == 404:\n",
    "        raise Exception(\"Player was not found. Please ensure the nickname entered is correct.\")\n",
    "    else:\n",
    "        raise Exception(\"Unknown Error\")\n",
    "    \n",
    "except Exception as exception:\n",
    "    print(f\"An error occurred: {exception}\")"
   ]
  },
  {
   "cell_type": "markdown",
   "metadata": {},
   "source": [
    "#### Unpacking the data retrieved"
   ]
  },
  {
   "cell_type": "code",
   "execution_count": 11,
   "metadata": {},
   "outputs": [
    {
     "data": {
      "text/plain": [
       "{'player_id': 'a8514df1-7da3-4f90-a2ea-2d6f0232c4ca',\n",
       " 'nickname': 'WilMaFngerDo',\n",
       " 'avatar': '',\n",
       " 'country': 'gb',\n",
       " 'cover_image': '',\n",
       " 'platforms': {'steam': 'STEAM_0:1:607051624'},\n",
       " 'games': {'csgo': {'region': 'EU',\n",
       "   'game_player_id': '76561199174368977',\n",
       "   'skill_level': 3,\n",
       "   'faceit_elo': 980,\n",
       "   'game_player_name': 'your Poundland terrorist',\n",
       "   'skill_level_label': '',\n",
       "   'regions': {},\n",
       "   'game_profile_id': ''}},\n",
       " 'settings': {'language': 'en'},\n",
       " 'friends_ids': ['92e602e4-a64f-4aec-bb8b-da9d2712a113',\n",
       "  'a2461061-b23d-4e77-8df1-95972609794e',\n",
       "  'f29924b0-5fee-4fdf-9e2d-59b70103a439',\n",
       "  '98b35a27-e047-463a-83f4-9823a3a1b8c8',\n",
       "  'd2a551b8-b6e3-4f23-a5cf-1f94ff0a1c72',\n",
       "  'a281d40c-35e0-4e60-a06c-d17dcd7ed52a',\n",
       "  '6010ed8a-688e-464a-b62b-032e4ecaacd7',\n",
       "  'eb10fd70-8755-4524-9328-e4ab87379df4'],\n",
       " 'new_steam_id': '[U:1:1214103249]',\n",
       " 'steam_id_64': '76561199174368977',\n",
       " 'steam_nickname': 'juliaxsharp597296',\n",
       " 'memberships': ['free'],\n",
       " 'faceit_url': 'https://www.faceit.com/{lang}/players/WilMaFngerDo',\n",
       " 'membership_type': '',\n",
       " 'cover_featured_image': '',\n",
       " 'infractions': {},\n",
       " 'verified': False,\n",
       " 'activated_at': '2022-06-19T21:36:14.769Z'}"
      ]
     },
     "execution_count": 11,
     "metadata": {},
     "output_type": "execute_result"
    }
   ],
   "source": [
    "player_summary = response_api.json()\n",
    "\n",
    "player_summary"
   ]
  },
  {
   "cell_type": "markdown",
   "metadata": {},
   "source": [
    "#### Dictionary extraction to get cs2 data only"
   ]
  },
  {
   "cell_type": "code",
   "execution_count": 12,
   "metadata": {},
   "outputs": [
    {
     "name": "stdout",
     "output_type": "stream",
     "text": [
      "\n",
      "Skill Level: None\n",
      "Elo: None\n",
      "      \n"
     ]
    }
   ],
   "source": [
    "def nested_get_from_dict(dict_name, key_list):\n",
    "    for key in key_list:\n",
    "        dict_name = dict_name.get(key)\n",
    "        if dict_name is None:\n",
    "            break\n",
    "    return dict_name\n",
    "\n",
    "faceit_skill_level = nested_get_from_dict(player_summary, ['games', 'cs2', 'skill_level'])\n",
    "\n",
    "faceit_elo = nested_get_from_dict(player_summary, ['games', 'cs2', 'faceit_elo'])\n",
    "\n",
    "print(f\"\"\"\n",
    "Skill Level: {faceit_skill_level}\n",
    "Elo: {faceit_elo}\n",
    "      \"\"\")"
   ]
  }
 ],
 "metadata": {
  "kernelspec": {
   "display_name": "venv",
   "language": "python",
   "name": "python3"
  },
  "language_info": {
   "codemirror_mode": {
    "name": "ipython",
    "version": 3
   },
   "file_extension": ".py",
   "mimetype": "text/x-python",
   "name": "python",
   "nbconvert_exporter": "python",
   "pygments_lexer": "ipython3",
   "version": "3.12.0"
  }
 },
 "nbformat": 4,
 "nbformat_minor": 2
}
