{
 "cells": [
  {
   "cell_type": "markdown",
   "metadata": {},
   "source": [
    "## Retrieve faceit stats"
   ]
  },
  {
   "cell_type": "markdown",
   "metadata": {},
   "source": [
    "#### Retrieving data from faceit API"
   ]
  },
  {
   "cell_type": "code",
   "execution_count": 22,
   "metadata": {},
   "outputs": [],
   "source": [
    "# Import modules\n",
    "from dotenv import load_dotenv\n",
    "import os\n",
    "import requests\n",
    "from glom import glom\n",
    "\n",
    "# Load secrets\n",
    "load_dotenv()\n",
    "\n",
    "faceit_nickname = input(\"Faceit Nickname: \")\n",
    "\n",
    "# Set GET request args\n",
    "headers = {\n",
    "    # The SERVER_KEY environment variable was generated at:\n",
    "    # https://developers.faceit.com/apps > select app > api keys > create server side api key\n",
    "    \"Authorization\": f\"Bearer {os.getenv(\"SERVER_KEY\")}\",\n",
    "    \"accept\": \"application/json\"\n",
    "}\n",
    "\n",
    "endpoint = f\"https://open.faceit.com/data/v4/players?nickname={faceit_nickname}\"\n",
    "\n",
    "# GET request \n",
    "response_api = requests.get(endpoint, headers=headers)\n",
    "\n"
   ]
  },
  {
   "cell_type": "markdown",
   "metadata": {},
   "source": [
    "#### Unpacking the data retrieved"
   ]
  },
  {
   "cell_type": "code",
   "execution_count": 25,
   "metadata": {},
   "outputs": [
    {
     "data": {
      "text/plain": [
       "{'player_id': '70ef434c-3b6b-44d1-bdee-4bab2e650a77',\n",
       " 'nickname': 'nadumtax',\n",
       " 'avatar': 'https://distribution.faceit-cdn.net/images/0fcd66c6-6bc4-4bf2-963f-af48d0c6a842.jpeg',\n",
       " 'country': 'gb',\n",
       " 'cover_image': '',\n",
       " 'platforms': {'steam': 'STEAM_0:1:721958185'},\n",
       " 'games': {'cs2': {'region': 'EU',\n",
       "   'game_player_id': '76561199404182099',\n",
       "   'skill_level': 2,\n",
       "   'faceit_elo': 596,\n",
       "   'game_player_name': 'nadum tax',\n",
       "   'skill_level_label': '',\n",
       "   'regions': {},\n",
       "   'game_profile_id': ''}},\n",
       " 'settings': {'language': 'en'},\n",
       " 'friends_ids': ['3615169f-5d77-4afc-a4a6-5579c4f9b5c5',\n",
       "  '92e602e4-a64f-4aec-bb8b-da9d2712a113',\n",
       "  'cb0712df-9b0b-4c99-ac80-241c792caf2b',\n",
       "  '580ca833-54e1-4b4e-bec7-f68ec08f4b12',\n",
       "  'c271445b-8aa5-49f2-99ba-5bc740b7debe',\n",
       "  'cd309d16-b1f7-416f-ba58-721ec4e81352',\n",
       "  '3089d2e5-a471-4349-8bdd-394fbd0c2a65',\n",
       "  '7d4e8c43-6a1e-4448-9387-3da41d1ad558'],\n",
       " 'new_steam_id': '[U:1:1443916371]',\n",
       " 'steam_id_64': '76561199404182099',\n",
       " 'steam_nickname': 'nadum tax',\n",
       " 'memberships': ['free'],\n",
       " 'faceit_url': 'https://www.faceit.com/{lang}/players/nadumtax',\n",
       " 'membership_type': '',\n",
       " 'cover_featured_image': '',\n",
       " 'infractions': {},\n",
       " 'verified': False,\n",
       " 'activated_at': '2024-07-01T22:10:21.005Z'}"
      ]
     },
     "execution_count": 25,
     "metadata": {},
     "output_type": "execute_result"
    }
   ],
   "source": [
    "player_summary = response_api.json()\n",
    "\n",
    "player_summary"
   ]
  },
  {
   "cell_type": "markdown",
   "metadata": {},
   "source": [
    "#### Dictionary extraction to get cs2 data only"
   ]
  },
  {
   "cell_type": "code",
   "execution_count": 24,
   "metadata": {},
   "outputs": [
    {
     "name": "stdout",
     "output_type": "stream",
     "text": [
      "\n",
      "Skill Level: 2\n",
      "Elo: 596\n",
      "      \n"
     ]
    }
   ],
   "source": [
    "def nested_get_from_dict(dict_name, key_list):\n",
    "    for key in key_list:\n",
    "        dict_name = dict_name.get(key)\n",
    "        if dict_name is None:\n",
    "            break\n",
    "    return dict_name\n",
    "\n",
    "faceit_skill_level = nested_get_from_dict(player_summary, ['games', 'cs2', 'skill_level'])\n",
    "\n",
    "faceit_elo = nested_get_from_dict(player_summary, ['games', 'cs2', 'faceit_elo'])\n",
    "\n",
    "print(f\"\"\"\n",
    "Skill Level: {faceit_skill_level}\n",
    "Elo: {faceit_elo}\n",
    "      \"\"\")"
   ]
  }
 ],
 "metadata": {
  "kernelspec": {
   "display_name": "venv",
   "language": "python",
   "name": "python3"
  },
  "language_info": {
   "codemirror_mode": {
    "name": "ipython",
    "version": 3
   },
   "file_extension": ".py",
   "mimetype": "text/x-python",
   "name": "python",
   "nbconvert_exporter": "python",
   "pygments_lexer": "ipython3",
   "version": "3.12.1"
  }
 },
 "nbformat": 4,
 "nbformat_minor": 2
}
